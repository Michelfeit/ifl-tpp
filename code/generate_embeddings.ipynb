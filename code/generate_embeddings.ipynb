{
 "cells": [
  {
   "cell_type": "code",
   "execution_count": 1,
   "metadata": {},
   "outputs": [],
   "source": [
    "import matplotlib.pyplot as plt\n",
    "import numpy as np\n",
    "import torch\n",
    "import torch.nn as nn\n",
    "import torch.nn.functional as F\n",
    "\n",
    "import dpp\n",
    "\n",
    "from tqdm import tqdm_notebook as tqdm\n",
    "from copy import deepcopy\n",
    "# from umap import UMAP\n",
    "import seaborn as sns\n",
    "sns.set_style('whitegrid')\n",
    "torch.set_default_tensor_type(torch.cuda.FloatTensor) "
   ]
  },
  {
   "cell_type": "markdown",
   "metadata": {},
   "source": [
    "# Generate synthetic data"
   ]
  },
  {
   "cell_type": "code",
   "execution_count": 2,
   "metadata": {},
   "outputs": [],
   "source": [
    "np.random.seed(123)\n",
    "n_samples = 1024\n",
    "n_sequences = 32\n",
    "poisson = [dpp.gen.poisson.sample(n_samples=n_samples) for _ in range(n_sequences)]\n",
    "renewal = [dpp.gen.renewal.sample(n_samples) for _ in range(n_sequences)]\n",
    "self_correcting = [dpp.gen.self_correcting.sample(n_samples) for _ in range(n_sequences)]\n",
    "hawkes1 = [dpp.gen.hawkes.hawkes1(n_samples)[0] for _ in range(n_sequences)]\n",
    "hawkes2 = [dpp.gen.hawkes.hawkes2(n_samples)[0] for _ in range(n_sequences)]\n",
    "\n",
    "all_arrival = poisson + renewal + self_correcting + hawkes1 + hawkes2\n",
    "all_deltas = [dpp.utils.get_inter_times(t) for t in all_arrival]\n",
    "\n",
    "dataset = dpp.data.SequenceDataset(all_deltas) "
   ]
  },
  {
   "cell_type": "code",
   "execution_count": 3,
   "metadata": {},
   "outputs": [],
   "source": [
    "d_train, d_val, d_test = dataset.train_val_test_split_each() \n",
    "mean_in, std_in = d_train.get_mean_std_in()\n",
    "d_train = d_train.normalize(mean_in, std_in)\n",
    "d_val = d_val.normalize(mean_in, std_in)\n",
    "d_test = d_test.normalize(mean_in, std_in)  "
   ]
  },
  {
   "cell_type": "code",
   "execution_count": 4,
   "metadata": {},
   "outputs": [],
   "source": [
    "d_train.break_down_long_sequences(128)\n",
    "collate = dpp.data.collate\n",
    "dl_train = torch.utils.data.DataLoader(d_train, batch_size=64, shuffle=True, collate_fn=collate)\n",
    "dl_val = torch.utils.data.DataLoader(d_val, batch_size=1, shuffle=False, collate_fn=collate)\n",
    "dl_test = torch.utils.data.DataLoader(d_test, batch_size=1, shuffle=False, collate_fn=collate)  "
   ]
  },
  {
   "cell_type": "markdown",
   "metadata": {},
   "source": [
    "# Define the model"
   ]
  },
  {
   "cell_type": "code",
   "execution_count": 5,
   "metadata": {},
   "outputs": [],
   "source": [
    "config = dpp.model.ModelConfig(\n",
    "    use_history=True,\n",
    "    history_size=64,\n",
    "    use_embedding=True,\n",
    "    embedding_size=64,\n",
    "    num_embeddings=len(dataset),\n",
    ")\n",
    "\n",
    "shift_init, scale_init = d_train.get_log_mean_std_out()\n",
    "decoder = dpp.decoders.LogNormMix(config, hypernet_hidden_sizes=[], \n",
    "                              shift_init=shift_init, scale_init=scale_init) \n",
    "model = dpp.model.Model(config, decoder) \n",
    "\n",
    "opt = torch.optim.Adam(model.parameters(),\n",
    "                       weight_decay=1e-5,\n",
    "                       lr=1e-3)  "
   ]
  },
  {
   "cell_type": "code",
   "execution_count": 6,
   "metadata": {},
   "outputs": [],
   "source": [
    "def get_total_loss(loader):\n",
    "    loader_log_prob, loader_lengths = [], []\n",
    "    for input in loader:\n",
    "        loader_log_prob.append(model.log_prob(input).detach())\n",
    "        loader_lengths.append(input.length.detach())\n",
    "    return -model.aggregate(loader_log_prob, loader_lengths)  "
   ]
  },
  {
   "cell_type": "code",
   "execution_count": 7,
   "metadata": {},
   "outputs": [],
   "source": [
    "max_epochs = 1000\n",
    "display_step = 25\n",
    "patience = 100  "
   ]
  },
  {
   "cell_type": "markdown",
   "metadata": {},
   "source": [
    "# Training the model\n",
    "### Pre-train the embeddings"
   ]
  },
  {
   "cell_type": "code",
   "execution_count": 8,
   "metadata": {},
   "outputs": [],
   "source": [
    "model.use_history(False)\n",
    "model.use_embedding(True)  "
   ]
  },
  {
   "cell_type": "code",
   "execution_count": 9,
   "metadata": {},
   "outputs": [
    {
     "name": "stdout",
     "output_type": "stream",
     "text": [
      "Epoch   25, loss_train_last_batch = 0.6578, loss_val = 0.5921\n",
      "Epoch   50, loss_train_last_batch = 0.4769, loss_val = 0.5901\n",
      "Epoch   75, loss_train_last_batch = 0.5849, loss_val = 0.5908\n",
      "Epoch  100, loss_train_last_batch = 0.5061, loss_val = 0.5914\n",
      "Epoch  125, loss_train_last_batch = 0.5089, loss_val = 0.5921\n",
      "Breaking due to early stopping at epoch 149\n"
     ]
    }
   ],
   "source": [
    "impatient = 0\n",
    "best_loss = np.inf\n",
    "best_model = deepcopy(model.state_dict())\n",
    "training_val_losses = []\n",
    "\n",
    "for epoch in range(max_epochs):\n",
    "    model.train()\n",
    "    for input in dl_train:\n",
    "        opt.zero_grad()\n",
    "        log_prob = model.log_prob(input)\n",
    "        loss = -model.aggregate(log_prob, input.length)\n",
    "        loss.backward()\n",
    "        opt.step()\n",
    "\n",
    "    model.eval()\n",
    "    loss_val = get_total_loss(dl_val)\n",
    "    training_val_losses.append(loss_val.item())\n",
    "\n",
    "    if (best_loss - loss_val) < 1e-4:\n",
    "        impatient += 1\n",
    "        if loss_val < best_loss:\n",
    "            best_loss = loss_val.item()\n",
    "            best_model = deepcopy(model.state_dict())\n",
    "    else:\n",
    "        best_loss = loss_val.item()\n",
    "        best_model = deepcopy(model.state_dict())\n",
    "        impatient = 0\n",
    "\n",
    "    if impatient >= patience:\n",
    "        print(f'Breaking due to early stopping at epoch {epoch}')\n",
    "        break\n",
    "\n",
    "    if (epoch + 1) % display_step == 0:\n",
    "        print(f\"Epoch {epoch+1:4d}, loss_train_last_batch = {loss:.4f}, loss_val = {loss_val:.4f}\")"
   ]
  },
  {
   "cell_type": "markdown",
   "metadata": {},
   "source": [
    "### Finish training with history"
   ]
  },
  {
   "cell_type": "code",
   "execution_count": 10,
   "metadata": {},
   "outputs": [],
   "source": [
    "model.use_history(True)\n",
    "model.use_embedding(True)  "
   ]
  },
  {
   "cell_type": "code",
   "execution_count": 11,
   "metadata": {},
   "outputs": [
    {
     "name": "stdout",
     "output_type": "stream",
     "text": [
      "Epoch   25, loss_train = 0.5782, loss_val = 0.5379\n",
      "Epoch   50, loss_train = 0.6117, loss_val = 0.5321\n",
      "Epoch   75, loss_train = 0.5734, loss_val = 0.5409\n",
      "Epoch  100, loss_train = 0.6134, loss_val = 0.5588\n",
      "Epoch  125, loss_train = 0.4832, loss_val = 0.5785\n",
      "Breaking due to early stopping at epoch 139\n"
     ]
    }
   ],
   "source": [
    "model.load_state_dict(best_model)\n",
    "impatient = 0\n",
    "best_loss = np.inf\n",
    "best_model = deepcopy(model.state_dict())\n",
    "\n",
    "for epoch in range(max_epochs):\n",
    "    model.train()\n",
    "    for input in dl_train:\n",
    "        opt.zero_grad()\n",
    "        log_prob = model.log_prob(input)\n",
    "        loss = -model.aggregate(log_prob, input.length)\n",
    "        loss.backward()\n",
    "        opt.step()\n",
    "\n",
    "    model.eval()\n",
    "    loss_val = get_total_loss(dl_val)\n",
    "    training_val_losses.append(loss_val.item())\n",
    "\n",
    "    if (best_loss - loss_val) < 1e-4:\n",
    "        impatient += 1\n",
    "        if loss_val < best_loss:\n",
    "            best_loss = loss_val.item()\n",
    "            best_model = deepcopy(model.state_dict())\n",
    "    else:\n",
    "        best_loss = loss_val.item()\n",
    "        best_model = deepcopy(model.state_dict())\n",
    "        impatient = 0\n",
    "\n",
    "    if impatient >= patience:\n",
    "        print(f'Breaking due to early stopping at epoch {epoch}')\n",
    "        break\n",
    "\n",
    "    if (epoch + 1) % display_step == 0:\n",
    "        print(f\"Epoch {epoch+1:4d}, loss_train = {loss:.4f}, loss_val = {loss_val:.4f}\")  "
   ]
  },
  {
   "cell_type": "markdown",
   "metadata": {},
   "source": [
    "# Visualize the learned embeddings"
   ]
  },
  {
   "cell_type": "code",
   "execution_count": 12,
   "metadata": {},
   "outputs": [],
   "source": [
    "from matplotlib.colors import ListedColormap\n",
    "cmap = ListedColormap(sns.color_palette('colorblind', 5).as_hex())\n",
    "colors = np.zeros(n_sequences * 5)\n",
    "for i in range(5):\n",
    "    colors[np.arange(i*n_sequences, (i + 1)*n_sequences)] = i\n",
    "\n",
    "def plot_embeddings():\n",
    "    from sklearn.manifold import TSNE\n",
    "\n",
    "    if config.embedding_size == 2:\n",
    "        z = model.embedding.weight.cpu().detach().numpy()\n",
    "    else:\n",
    "        x = model.embedding.weight.cpu().detach().numpy()\n",
    "        # z = UMAP().fit_transform(x)\n",
    "        z = TSNE().fit_transform(x)\n",
    "\n",
    "    fig, ax = plt.subplots(figsize=(3.8, 2.5))\n",
    "    scatter = ax.scatter(z[:, 0], z[:, 1], c=colors, alpha=0.5, cmap=cmap)\n",
    "    a, b = scatter.legend_elements()\n",
    "    legend1 = ax.legend(a, ['Poisson', 'Renewal', 'Self-correcting', 'Hawkes1', 'Hawkes2'], bbox_to_anchor=(1.0, 1.0))\n",
    "    ax.set_yticklabels([])\n",
    "    ax.set_xticklabels([])\n",
    "    ax.set_xlabel('t-SNE component 1')\n",
    "    ax.set_ylabel('t-SNE component 2')\n",
    "    plt.tight_layout()\n"
   ]
  },
  {
   "cell_type": "code",
   "execution_count": 13,
   "metadata": {},
   "outputs": [
    {
     "data": {
      "image/png": "[encoded data removed]",
      "text/plain": [
       "<Figure size 273.6x180 with 1 Axes>"
      ]
     },
     "metadata": {},
     "output_type": "display_data"
    }
   ],
   "source": [
    "plot_embeddings()"
   ]
  }
 ],
 "metadata": {
  "kernelspec": {
   "display_name": "Python 3",
   "language": "python",
   "name": "python3"
  },
  "language_info": {
   "codemirror_mode": {
    "name": "ipython",
    "version": 3
   },
   "file_extension": ".py",
   "mimetype": "text/x-python",
   "name": "python",
   "nbconvert_exporter": "python",
   "pygments_lexer": "ipython3",
   "version": "3.8.1"
  }
 },
 "nbformat": 4,
 "nbformat_minor": 2
}
