{
 "cells": [
  {
   "cell_type": "code",
   "execution_count": 1,
   "metadata": {},
   "outputs": [],
   "source": [
    "import dpp\n",
    "import numpy as np\n",
    "import torch\n",
    "import torch.nn as nn\n",
    "import torch.distributions as td\n",
    "from copy import deepcopy\n",
    "import matplotlib.pyplot as plt\n",
    "import seaborn as sns\n",
    "sns.set_style('whitegrid')\n",
    "torch.set_default_tensor_type(torch.cuda.FloatTensor)"
   ]
  },
  {
   "cell_type": "markdown",
   "metadata": {},
   "source": [
    "## Config\n",
    "\n",
    "Change the values bellow to train on other datasets / with other models."
   ]
  },
  {
   "cell_type": "code",
   "execution_count": 2,
   "metadata": {},
   "outputs": [],
   "source": [
    "seed = 1\n",
    "np.random.seed(seed)\n",
    "torch.manual_seed(seed)\n",
    "\n",
    "## General data config\n",
    "dataset_name = 'synth/hawkes2' # other: [ 'yelp_toronto', 'wikipedia', 'mooc', 'stack_overflow', 'lastfm',  \n",
    "                               #          'reddit', 'synth/poisson', 'synth/renewal', 'synth/self_correcting', \n",
    "                               #          'synth/hawkes1', 'synth/hawkes2']\n",
    "\n",
    "split = 'whole_sequences' # How to split the sequences (other 'each_sequence' -- split every seq. into train/val/test)\n",
    "\n",
    "## General model config\n",
    "use_history = True        # Whether to use RNN to encode history\n",
    "history_size = 64         # Size of the RNN hidden vector\n",
    "rnn_type = 'RNN'          # Which RNN cell to use (other: ['GRU', 'LSTM'])\n",
    "use_embedding = False     # Whether to use sequence embedding (should use with 'each_sequence' split)\n",
    "embedding_size = 32       # Size of the sequence embedding vector\n",
    "                          # IMPORTANT: when using split = 'whole_sequences', the model will only learn embeddings\n",
    "                          # for the training sequences, and not for validation / test\n",
    "trainable_affine = False  # Train the final affine layer\n",
    "\n",
    "## Decoder config\n",
    "decoder_name = 'LogNormMix' # other: ['RMTPP', 'FullyNeuralNet', 'Exponential', 'SOSPolynomial', 'DeepSigmoidalFlow']\n",
    "n_components = 64           # Number of components for a mixture model\n",
    "hypernet_hidden_sizes = []  # Number of units in MLP generating parameters ([] -- affine layer, [64] -- one layer, etc.)\n",
    "\n",
    "## Flow params\n",
    "# Polynomial\n",
    "max_degree = 3  # Maximum degree value for Sum-of-squares polynomial flow (SOS)\n",
    "n_terms = 4     # Number of terms for SOS flow\n",
    "# DSF / FullyNN\n",
    "n_layers = 2    # Number of layers for Deep Sigmoidal Flow (DSF) / Fully Neural Network flow (Omi et al., 2019)\n",
    "layer_size = 64 # Number of mixture components / units in a layer for DSF and FullyNN\n",
    "\n",
    "## Training config\n",
    "regularization = 1e-5 # L2 regularization parameter\n",
    "learning_rate = 1e-3  # Learning rate for Adam optimizer\n",
    "max_epochs = 1000     # For how many epochs to train\n",
    "display_step = 50     # Display training statistics after every display_step\n",
    "patience = 50         # After how many consecutive epochs without improvement of val loss to stop training"
   ]
  },
  {
   "cell_type": "markdown",
   "metadata": {},
   "source": [
    "## Data\n",
    "\n",
    "- Load dataset\n",
    "- Split into training / validation / test set\n",
    "- Normalize input inter-event times\n",
    "- Break down long traning set sequences"
   ]
  },
  {
   "cell_type": "code",
   "execution_count": 3,
   "metadata": {},
   "outputs": [],
   "source": [
    "if '+' not in dataset_name:\n",
    "    dataset = dpp.data.load_dataset(dataset_name)\n",
    "else:\n",
    "    # If '+' in dataset_name, load all the datasets together and concatenate them\n",
    "    # For example, dataset_name='synth/poisson+synth/renewal' loads poisson and renewal datasets\n",
    "    dataset_names = [d.strip() for d in dataset_name.split('+')]\n",
    "    dataset = dpp.data.load_dataset(dataset_names.pop(0))\n",
    "    for d in dataset_names:\n",
    "        dataset += dpp.data.load_dataset(dataset_names.pop(0))\n",
    "\n",
    "# Split into train/val/test, on each sequence or assign whole sequences to different sets\n",
    "if split == 'each_sequence':\n",
    "    d_train, d_val, d_test = dataset.train_val_test_split_each(seed=seed)\n",
    "elif split == 'whole_sequences':\n",
    "    d_train, d_val, d_test = dataset.train_val_test_split_whole(seed=seed)\n",
    "else:\n",
    "    raise ValueError(f'Unsupported dataset split {split}')\n",
    "\n",
    "# Calculate mean and std of the input inter-event times and normalize only input\n",
    "mean_in_train, std_in_train = d_train.get_mean_std_in()\n",
    "std_out_train = 1.0\n",
    "d_train.normalize(mean_in_train, std_in_train, std_out_train)\n",
    "d_val.normalize(mean_in_train, std_in_train, std_out_train)\n",
    "d_test.normalize(mean_in_train, std_in_train, std_out_train)\n",
    "\n",
    "# Break down long train sequences for faster batch traning and create torch DataLoaders\n",
    "d_train.break_down_long_sequences(128)\n",
    "collate = dpp.data.collate\n",
    "dl_train = torch.utils.data.DataLoader(d_train, batch_size=64, shuffle=True, collate_fn=collate)\n",
    "dl_val = torch.utils.data.DataLoader(d_val, batch_size=1, shuffle=False, collate_fn=collate)\n",
    "dl_test = torch.utils.data.DataLoader(d_test, batch_size=1, shuffle=False, collate_fn=collate)\n",
    "\n",
    "# Set the parameters for affine normalization layer depending on the decoder (see Appendix D.3 in the paper)\n",
    "if decoder_name in ['RMTPP', 'FullyNeuralNet', 'Exponential']:\n",
    "    _, std_out_train = d_train.get_mean_std_out()\n",
    "    mean_out_train = 0.0\n",
    "else:\n",
    "    mean_out_train, std_out_train = d_train.get_log_mean_std_out()"
   ]
  },
  {
   "cell_type": "markdown",
   "metadata": {},
   "source": [
    "## Model setup\n",
    "\n",
    "- Define the model config\n",
    "- Define the optimizer"
   ]
  },
  {
   "cell_type": "code",
   "execution_count": 4,
   "metadata": {},
   "outputs": [],
   "source": [
    "# General model config\n",
    "general_config = dpp.model.ModelConfig(\n",
    "    use_history=use_history,\n",
    "    history_size=history_size,\n",
    "    rnn_type=rnn_type,\n",
    "    use_embedding=use_embedding,\n",
    "    embedding_size=embedding_size,\n",
    "    num_embeddings=len(dataset),\n",
    ")\n",
    "\n",
    "# Decoder specific config\n",
    "decoder = getattr(dpp.decoders, decoder_name)(general_config,\n",
    "                                              n_components=n_components,\n",
    "                                              hypernet_hidden_sizes=hypernet_hidden_sizes,\n",
    "                                              max_degree=max_degree,\n",
    "                                              n_terms=n_terms,\n",
    "                                              n_layers=n_layers,\n",
    "                                              layer_size=layer_size,\n",
    "                                              shift_init=mean_out_train,\n",
    "                                              scale_init=std_out_train,\n",
    "                                              trainable_affine=trainable_affine)\n",
    "\n",
    "# Define model\n",
    "model = dpp.model.Model(general_config, decoder)\n",
    "model.use_history(general_config.use_history)\n",
    "model.use_embedding(general_config.use_embedding)\n",
    "\n",
    "# Define optimizer\n",
    "opt = torch.optim.Adam(model.parameters(), weight_decay=regularization, lr=learning_rate)"
   ]
  },
  {
   "cell_type": "markdown",
   "metadata": {},
   "source": [
    "## Traning\n",
    "\n",
    "- Run for max_epochs or until the early stopping condition is satisfied\n",
    "- Calculate and save the training statistics"
   ]
  },
  {
   "cell_type": "code",
   "execution_count": 5,
   "metadata": {},
   "outputs": [],
   "source": [
    "# Function that calculates the loss for the entire dataloader\n",
    "def get_total_loss(loader):\n",
    "    loader_log_prob, loader_lengths = [], []\n",
    "    for input in loader:\n",
    "        loader_log_prob.append(model.log_prob(input).detach())\n",
    "        loader_lengths.append(input.length.detach())\n",
    "    return -model.aggregate(loader_log_prob, loader_lengths)"
   ]
  },
  {
   "cell_type": "code",
   "execution_count": 6,
   "metadata": {},
   "outputs": [
    {
     "name": "stdout",
     "output_type": "stream",
     "text": [
      "Epoch   50, loss_train_last_batch = 0.0382, loss_val = -0.0271\n",
      "Epoch  100, loss_train_last_batch = 0.0133, loss_val = -0.0292\n",
      "Breaking due to early stopping at epoch 139\n"
     ]
    }
   ],
   "source": [
    "impatient = 0\n",
    "best_loss = np.inf\n",
    "best_model = deepcopy(model.state_dict())\n",
    "training_val_losses = []\n",
    "\n",
    "for epoch in range(max_epochs):\n",
    "    model.train()\n",
    "    for input in dl_train:\n",
    "        opt.zero_grad()\n",
    "        log_prob = model.log_prob(input)\n",
    "        loss = -model.aggregate(log_prob, input.length)\n",
    "        loss.backward()\n",
    "        opt.step()\n",
    "\n",
    "    model.eval()\n",
    "    loss_val = get_total_loss(dl_val)\n",
    "    training_val_losses.append(loss_val.item())\n",
    "\n",
    "    if (best_loss - loss_val) < 1e-4:\n",
    "        impatient += 1\n",
    "        if loss_val < best_loss:\n",
    "            best_loss = loss_val.item()\n",
    "            best_model = deepcopy(model.state_dict())\n",
    "    else:\n",
    "        best_loss = loss_val.item()\n",
    "        best_model = deepcopy(model.state_dict())\n",
    "        impatient = 0\n",
    "\n",
    "    if impatient >= patience:\n",
    "        print(f'Breaking due to early stopping at epoch {epoch}')\n",
    "        break\n",
    "\n",
    "    if (epoch + 1) % display_step == 0:\n",
    "        print(f\"Epoch {epoch+1:4d}, loss_train_last_batch = {loss:.4f}, loss_val = {loss_val:.4f}\")"
   ]
  },
  {
   "cell_type": "markdown",
   "metadata": {},
   "source": [
    "## Evaluation\n",
    "\n",
    "- Load the best model\n",
    "- Calculate the train/val/test loss\n",
    "- Plot the training curve"
   ]
  },
  {
   "cell_type": "code",
   "execution_count": 7,
   "metadata": {},
   "outputs": [
    {
     "name": "stdout",
     "output_type": "stream",
     "text": [
      "Time NLL\n",
      "Train: 0.0192\n",
      "Val:   -0.0299\n",
      "Test:  0.0657\n"
     ]
    }
   ],
   "source": [
    "model.load_state_dict(best_model)\n",
    "model.eval()\n",
    "\n",
    "pdf_loss_train = get_total_loss(dl_train)\n",
    "pdf_loss_val = get_total_loss(dl_val)\n",
    "pdf_loss_test = get_total_loss(dl_test)\n",
    "\n",
    "print(f'Time NLL\\n'\n",
    "      f'Train: {pdf_loss_train:.4f}\\n'\n",
    "      f'Val:   {pdf_loss_val.item():.4f}\\n' \n",
    "      f'Test:  {pdf_loss_test.item():.4f}')"
   ]
  },
  {
   "cell_type": "code",
   "execution_count": 8,
   "metadata": {},
   "outputs": [
    {
     "data": {
      "image/png": "[encoded data removed]",
      "text/plain": [
       "<Figure size 432x288 with 1 Axes>"
      ]
     },
     "metadata": {
      "needs_background": "light"
     },
     "output_type": "display_data"
    }
   ],
   "source": [
    "training_val_losses = training_val_losses[:-patience] # plot only until early stopping\n",
    "plt.plot(range(len(training_val_losses)), training_val_losses)\n",
    "plt.ylabel('Validation loss')\n",
    "plt.xlabel('Epoch')\n",
    "plt.title(f'Training on \"{dataset_name}\" dataset')\n",
    "plt.show()"
   ]
  }
 ],
 "metadata": {
  "kernelspec": {
   "display_name": "Python 3",
   "language": "python",
   "name": "python3"
  },
  "language_info": {
   "codemirror_mode": {
    "name": "ipython",
    "version": 3
   },
   "file_extension": ".py",
   "mimetype": "text/x-python",
   "name": "python",
   "nbconvert_exporter": "python",
   "pygments_lexer": "ipython3",
   "version": "3.7.3"
  }
 },
 "nbformat": 4,
 "nbformat_minor": 2
}
